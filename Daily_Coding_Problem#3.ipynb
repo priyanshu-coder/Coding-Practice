{
 "cells": [
  {
   "cell_type": "markdown",
   "metadata": {},
   "source": [
    "Given the root to a binary tree, implement serialize(root), which serializes the tree into a string, and deserialize(s), which deserializes the string back into the tree.\n",
    "\n",
    "For example, given the following Node class\n",
    "\n",
    "class Node:\n",
    "    def __init__(self, val, left=None, right=None):\n",
    "        self.val = val\n",
    "        self.left = left\n",
    "        self.right = right\n",
    "The following test should pass:\n",
    "\n",
    "node = Node('root', Node('left', Node('left.left')), Node('right'))\n",
    "assert deserialize(serialize(node)).left.left.val == 'left.left'"
   ]
  },
  {
   "cell_type": "code",
   "execution_count": 66,
   "metadata": {},
   "outputs": [],
   "source": [
    "class Node:\n",
    "    def __init__(self, val, left=None, right=None):\n",
    "        self.val = val\n",
    "        self.left = left\n",
    "        self.right = right\n",
    "        \n",
    "    def serialize(self,root):\n",
    "        s=\"\"\n",
    "        if root is None:\n",
    "            s=s+\"#\"\n",
    "            return s\n",
    "               \n",
    "        s = s + str(root.val) \n",
    "        s=s+str(self.serialize(root.left))\n",
    "        s=s+str(self.serialize(root.right))\n",
    "        \n",
    "        return s\n",
    "    \n",
    "    def deserialize(self,s):\n",
    "        li=list(s)\n",
    "        if len(li)==0:\n",
    "            return None\n",
    "        r=self.helper(li,0)\n",
    "        return r\n",
    "        \n",
    "    def helper(self,li,sv):\n",
    "        \n",
    "        if li[sv] is \"#\":\n",
    "            return None\n",
    "        root=Node(li[sv])\n",
    "        sv+=1\n",
    "        root.left=self.helper(li,sv)\n",
    "        root.right=self.helper(li,sv)\n",
    "        return root\n",
    "    \n",
    "node=Node(1,Node(7),Node(3))\n",
    "s=node.serialize(node)\n",
    "r=node.deserialize(s)\n",
    "r.serialize(r)\n",
    "     "
   ]
  },
  {
   "cell_type": "code",
   "execution_count": 47,
   "metadata": {},
   "outputs": [
    {
     "data": {
      "text/plain": [
       "'1 2 # # 3 # #'"
      ]
     },
     "execution_count": 47,
     "metadata": {},
     "output_type": "execute_result"
    }
   ],
   "source": [
    "class Node:\n",
    "    def __init__(self, val, left=None, right=None):\n",
    "        self.val = val\n",
    "        self.left = left\n",
    "        self.right = right\n",
    "        \n",
    "def serialize(root):\n",
    "    if root is None:\n",
    "        return '#'\n",
    "    return '{} {} {}'.format(root.val, serialize(root.left), serialize(root.right))\n",
    "\n",
    "def deserialize(data):\n",
    "    def helper():\n",
    "        val = next(vals)\n",
    "        if val == '#':\n",
    "            return None\n",
    "        node = Node(int(val))\n",
    "        node.left = helper()\n",
    "        node.right = helper()\n",
    "        return node\n",
    "    vals = iter(data.split())\n",
    "    return helper()\n",
    "\n",
    "node=Node(1,Node(2),Node(3))\n",
    "s=serialize(node)\n",
    "r=deserialize(s)\n",
    "serialize(r)"
   ]
  },
  {
   "cell_type": "code",
   "execution_count": null,
   "metadata": {},
   "outputs": [],
   "source": []
  }
 ],
 "metadata": {
  "kernelspec": {
   "display_name": "Python 3",
   "language": "python",
   "name": "python3"
  },
  "language_info": {
   "codemirror_mode": {
    "name": "ipython",
    "version": 3
   },
   "file_extension": ".py",
   "mimetype": "text/x-python",
   "name": "python",
   "nbconvert_exporter": "python",
   "pygments_lexer": "ipython3",
   "version": "3.7.3"
  }
 },
 "nbformat": 4,
 "nbformat_minor": 2
}
