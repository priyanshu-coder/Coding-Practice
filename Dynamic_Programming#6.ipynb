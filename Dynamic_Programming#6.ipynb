{
 "cells": [
  {
   "cell_type": "code",
   "execution_count": 3,
   "metadata": {},
   "outputs": [
    {
     "name": "stdout",
     "output_type": "stream",
     "text": [
      "4\n",
      "1 2 4 5\n",
      "5 4 8 6\n",
      "5\n",
      "13\n"
     ]
    }
   ],
   "source": [
    "#recursive\n",
    "\n",
    "import sys\n",
    "def knapsackBF(weights, values, maxWeight):\n",
    "    \n",
    "    if len(weights)==0:\n",
    "        return 0\n",
    "        \n",
    "    \n",
    "    ans1=-sys.maxsize\n",
    "    if maxWeight >=weights[0]:\n",
    "        ans1=values[0]+knapsackBF(weights[1:],values[1:],maxWeight-weights[0])\n",
    "        \n",
    "    ans2=knapsackBF(weights[1:],values[1:],maxWeight)\n",
    "    \n",
    "    return max(ans1,ans2)\n",
    "    \n",
    "    \n",
    "\n",
    "from sys import setrecursionlimit\n",
    "setrecursionlimit(11000)\n",
    "n=int(input())\n",
    "weights=list(int(i) for i in input().strip().split(' '))\n",
    "values=list(int(i) for i in input().strip().split(' '))\n",
    "maxWeight=int(input())\n",
    "print(knapsackBF(weights, values, maxWeight))"
   ]
  },
  {
   "cell_type": "code",
   "execution_count": 19,
   "metadata": {},
   "outputs": [
    {
     "name": "stdout",
     "output_type": "stream",
     "text": [
      "4\n",
      "1 2 4 5\n",
      "5 4 8 6\n",
      "5\n",
      "9\n"
     ]
    }
   ],
   "source": [
    "#memoization\n",
    "import sys\n",
    "def knapsackBF(weights,values,maxWeight,dp,i):\n",
    "    \n",
    "    if i>=len(weights)-1:\n",
    "        return 0\n",
    "    \n",
    "    ans1=-sys.maxsize\n",
    "    if maxWeight>=weights[i]:\n",
    "        if dp[i+1]==-1:\n",
    "            smallans1=knapsackBF(weights,values,maxWeight-weights[i],dp,i+1)\n",
    "            ans1=values[i]+smallans1\n",
    "            dp[i+1]=smallans1\n",
    "        else:\n",
    "            ans1=dp[i+1]+values[i]\n",
    "    \n",
    "    if dp[i+1]==-1:\n",
    "        ans2=knapsackBF(weights,values,maxWeight,dp,i+1)\n",
    "        dp[i+1]=ans2\n",
    "    else:\n",
    "        ans2=dp[i+1]\n",
    "        \n",
    "    ans=max(ans1,ans2)\n",
    "    dp[i]=ans\n",
    "    return ans\n",
    "\n",
    "n=int(input())\n",
    "weights=list(int(i) for i in input().strip().split(' '))\n",
    "values=list(int(i) for i in input().strip().split(' '))\n",
    "maxWeight=int(input())\n",
    "dp=[-1 for _ in range(n+1)]\n",
    "print(knapsackBF(weights, values, maxWeight,dp,0))\n"
   ]
  }
 ],
 "metadata": {
  "kernelspec": {
   "display_name": "Python 3",
   "language": "python",
   "name": "python3"
  },
  "language_info": {
   "codemirror_mode": {
    "name": "ipython",
    "version": 3
   },
   "file_extension": ".py",
   "mimetype": "text/x-python",
   "name": "python",
   "nbconvert_exporter": "python",
   "pygments_lexer": "ipython3",
   "version": "3.7.3"
  }
 },
 "nbformat": 4,
 "nbformat_minor": 2
}
