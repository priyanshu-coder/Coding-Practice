{
 "cells": [
  {
   "cell_type": "markdown",
   "metadata": {},
   "source": [
    "A number can always be represented as a sum of squares of other numbers. Note that 1 is a square and we can always break a number as [(1 * 1) + (1 * 1) + (1 * 1) + …]. Given a number n, find the minimum number of squares that sum to n."
   ]
  },
  {
   "cell_type": "code",
   "execution_count": null,
   "metadata": {},
   "outputs": [],
   "source": [
    "# recursive approach\n",
    "\n",
    "import sys\n",
    "def minStepsTo1(n):\n",
    "    \n",
    "    if n==0:\n",
    "        return 0\n",
    "    \n",
    "    ans=sys.maxsize\n",
    "    i=1\n",
    "    while i*i<=n:\n",
    "        curr = 1 + minStepsTo1(n-i*i)\n",
    "        ans = min(ans,curr)\n",
    "        i+=1\n",
    "        \n",
    "    return ans\n",
    "        \n",
    "\n",
    "    \n",
    "n = int(input())\n",
    "ans = minStepsTo1(n)\n",
    "print(ans)\n",
    "\n"
   ]
  },
  {
   "cell_type": "code",
   "execution_count": 3,
   "metadata": {},
   "outputs": [
    {
     "name": "stdout",
     "output_type": "stream",
     "text": [
      "100\n",
      "1\n"
     ]
    }
   ],
   "source": [
    "#memoization\n",
    "\n",
    "import sys\n",
    "\n",
    "def minSteps(n,dp):\n",
    "    if n==0:\n",
    "        return 0\n",
    "    \n",
    "    dp[0]=0\n",
    "    i=1\n",
    "    ans=sys.maxsize\n",
    "    while i*i<=n:\n",
    "        smallvalue=n-i*i\n",
    "        if dp[smallvalue]==-1:\n",
    "            soln=minSteps(smallvalue,dp)\n",
    "            dp[smallvalue]=soln\n",
    "            curr=1+soln\n",
    "        else:\n",
    "            curr=1+dp[smallvalue]\n",
    "        ans=min(ans,curr)\n",
    "        i+=1\n",
    "        \n",
    "    return ans\n",
    "\n",
    "n = int(input())\n",
    "dp=[-1 for j in range(n+1)]\n",
    "ans = minSteps(n,dp)\n",
    "print(ans)\n"
   ]
  },
  {
   "cell_type": "code",
   "execution_count": 8,
   "metadata": {},
   "outputs": [
    {
     "name": "stdout",
     "output_type": "stream",
     "text": [
      "41\n",
      "2\n"
     ]
    }
   ],
   "source": [
    "#iteration\n",
    "import sys\n",
    "def minsteps(n):\n",
    "    if n==0:\n",
    "        return 0\n",
    "    dp=[-1 for i in range(n+1)]\n",
    "    dp[0]=0\n",
    "    \n",
    "    for j in range(1,n+1):\n",
    "        ans=sys.maxsize\n",
    "        k=1\n",
    "        while k*k<=j:\n",
    "            curr=1+dp[j-k*k]\n",
    "            ans=min(ans,curr)\n",
    "            k+=1\n",
    "        dp[j]=ans\n",
    "    return dp[n]\n",
    "\n",
    "n = int(input())\n",
    "ans = minsteps(n)\n",
    "print(ans)\n",
    "\n",
    "        "
   ]
  }
 ],
 "metadata": {
  "kernelspec": {
   "display_name": "Python 3",
   "language": "python",
   "name": "python3"
  },
  "language_info": {
   "codemirror_mode": {
    "name": "ipython",
    "version": 3
   },
   "file_extension": ".py",
   "mimetype": "text/x-python",
   "name": "python",
   "nbconvert_exporter": "python",
   "pygments_lexer": "ipython3",
   "version": "3.7.3"
  }
 },
 "nbformat": 4,
 "nbformat_minor": 2
}
