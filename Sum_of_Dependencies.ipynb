{
 "cells": [
  {
   "cell_type": "markdown",
   "metadata": {},
   "source": [
    "Given a directed graph with n nodes. If there is an edge from u to v then u depends on v. Our task is to find out the sum of dependencies for every node.\n",
    "\n",
    "Example:\n",
    "For the graph in diagram, A depends on C and D i.e. 2, B depends on D i.e. 1, C depends on D i.e. 1\n",
    "and D depends on none.\n",
    "Hence answer -> 0 + 1 + 1 + 2 = 4"
   ]
  },
  {
   "cell_type": "code",
   "execution_count": 5,
   "metadata": {},
   "outputs": [
    {
     "name": "stdout",
     "output_type": "stream",
     "text": [
      "1\n",
      "4 3\n",
      "0 1 1 2 2 3\n",
      "3\n"
     ]
    }
   ],
   "source": [
    "class graph:    \n",
    "    def __init__(self,v):\n",
    "        self.vertices=v\n",
    "        self.matrix=[[0 for ii in range(v)] for ss in range(v)]\n",
    "        \n",
    "    def add(self,v1,v2):\n",
    "        self.matrix[v1][v2]=self.matrix[v1][v2]+1\n",
    "        \n",
    "    def output(self):\n",
    "        count=0\n",
    "        for l in self.matrix:\n",
    "            count=count+sum(l)\n",
    "        \n",
    "        return count\n",
    "            \n",
    "test_case=int(input())\n",
    "for i in range(test_case):\n",
    "    l=[int(x) for x in input().split()]\n",
    "    N=l[0]\n",
    "    E=l[1]\n",
    "    ll=[int(y) for y in input().split()]\n",
    "    g=graph(N)\n",
    "    for ele in range(1,len(ll),2):\n",
    "        g.add(ll[ele-1],ll[ele])\n",
    "        \n",
    "    print(g.output())\n",
    "    "
   ]
  }
 ],
 "metadata": {
  "kernelspec": {
   "display_name": "Python 3",
   "language": "python",
   "name": "python3"
  },
  "language_info": {
   "codemirror_mode": {
    "name": "ipython",
    "version": 3
   },
   "file_extension": ".py",
   "mimetype": "text/x-python",
   "name": "python",
   "nbconvert_exporter": "python",
   "pygments_lexer": "ipython3",
   "version": "3.7.3"
  }
 },
 "nbformat": 4,
 "nbformat_minor": 2
}
