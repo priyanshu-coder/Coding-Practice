{
 "cells": [
  {
   "cell_type": "markdown",
   "metadata": {},
   "source": [
    "Given an array of integers, return a new array such that each element at index i of the new array is the product of all the\n",
    "numbers in the original array except the one at i.\n",
    "\n",
    "For example, if our input was [1, 2, 3, 4, 5], the expected output would be [120, 60, 40, 30, 24]. If our input was [3, 2, 1],\n",
    "the expected output would be [2, 3, 6].\n",
    "\n",
    "Follow-up: what if you can't use division?"
   ]
  },
  {
   "cell_type": "code",
   "execution_count": 3,
   "metadata": {},
   "outputs": [
    {
     "name": "stdout",
     "output_type": "stream",
     "text": [
      "1 2 3 4 5\n",
      "[120, 60, 40, 30, 24]\n"
     ]
    }
   ],
   "source": [
    "#METHOD 1\n",
    "def newArray(li):\n",
    "    ll=[]\n",
    "    for i in range(len(li)):\n",
    "        multiply=1\n",
    "        for j in range(len(li)):\n",
    "            if li[i]!=li[j]:\n",
    "                multiply=multiply*li[j]\n",
    "        ll.append(multiply)\n",
    "        \n",
    "    return ll\n",
    "\n",
    "li=[int(x) for x in input().split()]\n",
    "ll=newArray(li)\n",
    "print(ll)"
   ]
  },
  {
   "cell_type": "code",
   "execution_count": 5,
   "metadata": {},
   "outputs": [
    {
     "name": "stdout",
     "output_type": "stream",
     "text": [
      "1 2 3 4 5\n",
      "[120, 60, 40, 30, 24]\n"
     ]
    }
   ],
   "source": [
    "## METHOD 2\n",
    "\n",
    "def newArray(li):\n",
    "    ll=[]\n",
    "    multiply=1\n",
    "    \n",
    "    for i in range(len(li)):\n",
    "        multiply=multiply*li[i]\n",
    "        \n",
    "    for ii in range(len(li)):\n",
    "        ll.append(multiply//li[ii])\n",
    "        \n",
    "    return ll\n",
    "\n",
    "li=[int(x) for x in input().split()]\n",
    "ll=newArray(li)\n",
    "print(ll)\n",
    "        \n",
    "    "
   ]
  },
  {
   "cell_type": "code",
   "execution_count": 6,
   "metadata": {},
   "outputs": [
    {
     "name": "stdout",
     "output_type": "stream",
     "text": [
      "1 2 3 4 5\n",
      "[120, 60, 40, 30, 24]\n"
     ]
    }
   ],
   "source": [
    "#method3\n",
    "\n",
    "def prefix(li,targ):\n",
    "    if targ!=0:\n",
    "        multiply=1\n",
    "        for i in range(0,targ,1):\n",
    "            \n",
    "            multiply*=li[i]\n",
    "            \n",
    "        return multiply\n",
    "    \n",
    "    else:\n",
    "        return 1\n",
    "    \n",
    "    \n",
    "def suffix(li,targ):\n",
    "    if targ!=(len(li)-1):\n",
    "        \n",
    "        multiply=1\n",
    "        \n",
    "        for j in range(targ+1,len(li),1):\n",
    "            \n",
    "            multiply*=li[j]\n",
    "            \n",
    "        return multiply\n",
    "    \n",
    "    else:\n",
    "        return 1\n",
    "            \n",
    "def newArray(li):\n",
    "    llp=[]\n",
    "    lls=[]\n",
    "    ll=[]\n",
    "    for k in range(len(li)):\n",
    "        llp.append(prefix(li,k))\n",
    "        lls.append(suffix(li,k))\n",
    "        \n",
    "    for z in range(len(li)):\n",
    "        ll.append(llp[z]*lls[z])\n",
    "        \n",
    "    return ll\n",
    "\n",
    "\n",
    "li=[int(x) for x in input().split()]\n",
    "ll=newArray(li)\n",
    "print(ll)    \n"
   ]
  }
 ],
 "metadata": {
  "kernelspec": {
   "display_name": "Python 3",
   "language": "python",
   "name": "python3"
  },
  "language_info": {
   "codemirror_mode": {
    "name": "ipython",
    "version": 3
   },
   "file_extension": ".py",
   "mimetype": "text/x-python",
   "name": "python",
   "nbconvert_exporter": "python",
   "pygments_lexer": "ipython3",
   "version": "3.7.3"
  }
 },
 "nbformat": 4,
 "nbformat_minor": 2
}
