{
 "cells": [
  {
   "cell_type": "markdown",
   "metadata": {},
   "source": [
    "Given an integer k and a string s, find the length of the longest substring that contains at most k distinct characters.\n",
    "\n",
    "For example, given s = \"abcba\" and k = 2, the longest substring with k distinct characters is \"bcb\"."
   ]
  },
  {
   "cell_type": "code",
   "execution_count": 5,
   "metadata": {},
   "outputs": [
    {
     "name": "stdout",
     "output_type": "stream",
     "text": [
      "abcba\n",
      "2\n"
     ]
    },
    {
     "data": {
      "text/plain": [
       "3"
      ]
     },
     "execution_count": 5,
     "metadata": {},
     "output_type": "execute_result"
    }
   ],
   "source": [
    "#brute force\n",
    "\n",
    "def substring(string,k):\n",
    "    longestString=\"\"\n",
    "    for i in range(len(string)):\n",
    "        for j in range(i+1,len(string)+1):\n",
    "            subs=string[i:j]\n",
    "            if len(set(subs))<=k and len(longestString)<len(subs):\n",
    "                longestString=subs\n",
    "    return len(longestString)\n",
    "\n",
    "string = input()\n",
    "k=int(input())\n",
    "substring(string,k)"
   ]
  },
  {
   "cell_type": "code",
   "execution_count": 8,
   "metadata": {},
   "outputs": [
    {
     "name": "stdout",
     "output_type": "stream",
     "text": [
      "abcba\n",
      "2\n"
     ]
    },
    {
     "data": {
      "text/plain": [
       "3"
      ]
     },
     "execution_count": 8,
     "metadata": {},
     "output_type": "execute_result"
    }
   ],
   "source": [
    "def substring(s,k):\n",
    "    \n",
    "    if k==0:\n",
    "        return 0\n",
    "    \n",
    "    bounds = (0,0)\n",
    "    h={}\n",
    "    max_length=0\n",
    "    for i,char in enumerate(s):\n",
    "        h[char]=i\n",
    "        if len(h) <= k:\n",
    "            new_lower_bound = bounds[0]\n",
    "        else:\n",
    "            key_to_pop = min(h , key=h.get)\n",
    "            new_lower_bound = h.pop(key_to_pop)+1\n",
    "            \n",
    "        bounds = (new_lower_bound , bounds[1]+1)\n",
    "        max_length = max(max_length,bounds[1] - bounds[0])\n",
    "    \n",
    "    return max_length\n",
    "  \n",
    "string = input()\n",
    "k=int(input())\n",
    "substring(string,k)"
   ]
  },
  {
   "cell_type": "code",
   "execution_count": 15,
   "metadata": {},
   "outputs": [
    {
     "name": "stdout",
     "output_type": "stream",
     "text": [
      "4\n",
      "1 3 5 7\n",
      "3\n",
      "5 3 1\n",
      "1 5\n"
     ]
    }
   ],
   "source": [
    "def findNumber(li1,li2):\n",
    "    c=1\n",
    "    for i in range(len(li1)):\n",
    "        for j in range(len(li2)):\n",
    "            su=li1[i]+li2[j]\n",
    "            if c==1:\n",
    "                if su not in li1 or su not in li2:\n",
    "                    print(li1[i],li2[j])\n",
    "                    c=0\n",
    "            \n",
    "\n",
    "n=int(input())\n",
    "li1=[int(x) for x in input().split()]\n",
    "m=int(input())\n",
    "li2=[int(y) for y in input().split()]\n",
    "findNumber(li1,li2)"
   ]
  },
  {
   "cell_type": "code",
   "execution_count": 11,
   "metadata": {},
   "outputs": [
    {
     "name": "stdout",
     "output_type": "stream",
     "text": [
      "1\n",
      "3 4\n",
      "1 2 1\n",
      "10\n"
     ]
    },
    {
     "ename": "TypeError",
     "evalue": "'<' not supported between instances of 'list' and 'int'",
     "output_type": "error",
     "traceback": [
      "\u001b[1;31m---------------------------------------------------------------------------\u001b[0m",
      "\u001b[1;31mTypeError\u001b[0m                                 Traceback (most recent call last)",
      "\u001b[1;32m<ipython-input-11-fc2ad5c11717>\u001b[0m in \u001b[0;36m<module>\u001b[1;34m\u001b[0m\n\u001b[0;32m     23\u001b[0m     \u001b[1;32mfor\u001b[0m \u001b[0m_\u001b[0m \u001b[1;32min\u001b[0m \u001b[0mrange\u001b[0m\u001b[1;33m(\u001b[0m\u001b[0mQ\u001b[0m\u001b[1;33m)\u001b[0m\u001b[1;33m:\u001b[0m\u001b[1;33m\u001b[0m\u001b[1;33m\u001b[0m\u001b[0m\n\u001b[0;32m     24\u001b[0m         \u001b[0mpower\u001b[0m\u001b[1;33m=\u001b[0m\u001b[0mint\u001b[0m\u001b[1;33m(\u001b[0m\u001b[0minput\u001b[0m\u001b[1;33m(\u001b[0m\u001b[1;33m)\u001b[0m\u001b[1;33m)\u001b[0m\u001b[1;33m\u001b[0m\u001b[1;33m\u001b[0m\u001b[0m\n\u001b[1;32m---> 25\u001b[1;33m         \u001b[0mfind\u001b[0m\u001b[1;33m(\u001b[0m\u001b[0mpower\u001b[0m\u001b[1;33m,\u001b[0m\u001b[0mli2\u001b[0m\u001b[1;33m)\u001b[0m\u001b[1;33m\u001b[0m\u001b[1;33m\u001b[0m\u001b[0m\n\u001b[0m\u001b[0;32m     26\u001b[0m \u001b[1;33m\u001b[0m\u001b[0m\n",
      "\u001b[1;32m<ipython-input-11-fc2ad5c11717>\u001b[0m in \u001b[0;36mfind\u001b[1;34m(power, *li)\u001b[0m\n\u001b[0;32m      6\u001b[0m     \u001b[1;32mwhile\u001b[0m \u001b[0mpower\u001b[0m\u001b[1;33m>\u001b[0m\u001b[1;36m0\u001b[0m \u001b[1;32mand\u001b[0m \u001b[0mlen\u001b[0m\u001b[1;33m(\u001b[0m\u001b[0mli\u001b[0m\u001b[1;33m)\u001b[0m\u001b[1;33m>\u001b[0m\u001b[1;36m0\u001b[0m\u001b[1;33m:\u001b[0m\u001b[1;33m\u001b[0m\u001b[1;33m\u001b[0m\u001b[0m\n\u001b[0;32m      7\u001b[0m         \u001b[0mm\u001b[0m\u001b[1;33m=\u001b[0m\u001b[0mmin\u001b[0m\u001b[1;33m(\u001b[0m\u001b[0mli\u001b[0m\u001b[1;33m)\u001b[0m\u001b[1;33m\u001b[0m\u001b[1;33m\u001b[0m\u001b[0m\n\u001b[1;32m----> 8\u001b[1;33m         \u001b[1;32mif\u001b[0m \u001b[0mm\u001b[0m\u001b[1;33m<\u001b[0m\u001b[0mpower\u001b[0m\u001b[1;33m:\u001b[0m\u001b[1;33m\u001b[0m\u001b[1;33m\u001b[0m\u001b[0m\n\u001b[0m\u001b[0;32m      9\u001b[0m             \u001b[0mpower\u001b[0m\u001b[1;33m=\u001b[0m\u001b[1;36m2\u001b[0m\u001b[1;33m*\u001b[0m\u001b[1;33m(\u001b[0m\u001b[0mpower\u001b[0m\u001b[1;33m-\u001b[0m\u001b[0mm\u001b[0m\u001b[1;33m)\u001b[0m\u001b[1;33m\u001b[0m\u001b[1;33m\u001b[0m\u001b[0m\n\u001b[0;32m     10\u001b[0m             \u001b[0mi\u001b[0m\u001b[1;33m=\u001b[0m\u001b[0mli\u001b[0m\u001b[1;33m.\u001b[0m\u001b[0mindex\u001b[0m\u001b[1;33m(\u001b[0m\u001b[0mm\u001b[0m\u001b[1;33m)\u001b[0m\u001b[1;33m\u001b[0m\u001b[1;33m\u001b[0m\u001b[0m\n",
      "\u001b[1;31mTypeError\u001b[0m: '<' not supported between instances of 'list' and 'int'"
     ]
    }
   ],
   "source": [
    "# cook your dish here\n",
    "def find(power,*li):\n",
    "    \n",
    "    \n",
    "    count=0\n",
    "    while power>0 and len(li)>0:\n",
    "        m=min(li)\n",
    "        if m<power:\n",
    "            power=2*(power-m)\n",
    "            i=li.index(m)\n",
    "            li[i]=999999999\n",
    "            count+=1\n",
    "        else:\n",
    "            power=0\n",
    "    print(count)\n",
    "\n",
    "t=int(input())\n",
    "for _ in range(t):\n",
    "    li=[int(x) for x in input().split()]\n",
    "    N=li[0]\n",
    "    Q=li[1]\n",
    "    li2=[int(y) for y in input().split()]\n",
    "    for _ in range(Q):\n",
    "        power=int(input())\n",
    "        find(power,li2)\n",
    "        "
   ]
  },
  {
   "cell_type": "code",
   "execution_count": 7,
   "metadata": {},
   "outputs": [
    {
     "name": "stdout",
     "output_type": "stream",
     "text": [
      "1\n",
      "6\n",
      "100000\n",
      "100000\n",
      "100000\n",
      "100000\n",
      "100000\n",
      "100001\n",
      "6 1\n"
     ]
    }
   ],
   "source": [
    "def findall(li,n):\n",
    "    firsthalf=0\n",
    "    secondhalf=0\n",
    "    half=n//2\n",
    "    for j in range(len(li)):\n",
    "        for i in range(0,half):\n",
    "            lii=list(li[j])\n",
    "            if lii[j]=='1':\n",
    "                firsthalf+=1\n",
    "        for jj in range(half,len(li)):\n",
    "            lli=list(li[j])\n",
    "            if lli[jj]=='1':\n",
    "                secondhalf+=1\n",
    "    pp=abs(firsthalf-secondhalf)\n",
    "    if pp==0:\n",
    "        print(pp)\n",
    "        \n",
    "    elif pp==1:\n",
    "        print(pp)\n",
    "        \n",
    "    elif pp==2:\n",
    "        print(pp)\n",
    "        \n",
    "    else:\n",
    "        \n",
    "    print(firsthalf,secondhalf)    \n",
    "    \n",
    "t=int(input())\n",
    "for _ in range(t):\n",
    "    n=int(input())\n",
    "    li=[]\n",
    "    for _ in range(n):\n",
    "        st=input()\n",
    "        li.append(st)\n",
    "        \n",
    "    findall(li,n)"
   ]
  },
  {
   "cell_type": "code",
   "execution_count": 8,
   "metadata": {},
   "outputs": [
    {
     "data": {
      "text/plain": [
       "8"
      ]
     },
     "execution_count": 8,
     "metadata": {},
     "output_type": "execute_result"
    }
   ],
   "source": [
    "abs(-8)"
   ]
  }
 ],
 "metadata": {
  "kernelspec": {
   "display_name": "Python 3",
   "language": "python",
   "name": "python3"
  },
  "language_info": {
   "codemirror_mode": {
    "name": "ipython",
    "version": 3
   },
   "file_extension": ".py",
   "mimetype": "text/x-python",
   "name": "python",
   "nbconvert_exporter": "python",
   "pygments_lexer": "ipython3",
   "version": "3.7.3"
  }
 },
 "nbformat": 4,
 "nbformat_minor": 2
}
