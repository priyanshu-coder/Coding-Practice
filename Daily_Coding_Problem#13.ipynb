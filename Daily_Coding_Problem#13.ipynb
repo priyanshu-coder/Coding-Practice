{
 "cells": [
  {
   "cell_type": "markdown",
   "metadata": {},
   "source": [
    "Given an integer k and a string s, find the length of the longest substring that contains at most k distinct characters.\n",
    "\n",
    "For example, given s = \"abcba\" and k = 2, the longest substring with k distinct characters is \"bcb\"."
   ]
  },
  {
   "cell_type": "code",
   "execution_count": 5,
   "metadata": {},
   "outputs": [
    {
     "name": "stdout",
     "output_type": "stream",
     "text": [
      "abcba\n",
      "2\n"
     ]
    },
    {
     "data": {
      "text/plain": [
       "3"
      ]
     },
     "execution_count": 5,
     "metadata": {},
     "output_type": "execute_result"
    }
   ],
   "source": [
    "#brute force\n",
    "\n",
    "def substring(string,k):\n",
    "    longestString=\"\"\n",
    "    for i in range(len(string)):\n",
    "        for j in range(i+1,len(string)+1):\n",
    "            subs=string[i:j]\n",
    "            if len(set(subs))<=k and len(longestString)<len(subs):\n",
    "                longestString=subs\n",
    "    return len(longestString)\n",
    "\n",
    "string = input()\n",
    "k=int(input())\n",
    "substring(string,k)"
   ]
  },
  {
   "cell_type": "code",
   "execution_count": 8,
   "metadata": {},
   "outputs": [
    {
     "name": "stdout",
     "output_type": "stream",
     "text": [
      "abcba\n",
      "2\n"
     ]
    },
    {
     "data": {
      "text/plain": [
       "3"
      ]
     },
     "execution_count": 8,
     "metadata": {},
     "output_type": "execute_result"
    }
   ],
   "source": [
    "def substring(s,k):\n",
    "    \n",
    "    if k==0:\n",
    "        return 0\n",
    "    \n",
    "    bounds = (0,0)\n",
    "    h={}\n",
    "    max_length=0\n",
    "    for i,char in enumerate(s):\n",
    "        h[char]=i\n",
    "        if len(h) <= k:\n",
    "            new_lower_bound = bounds[0]\n",
    "        else:\n",
    "            key_to_pop = min(h , key=h.get)\n",
    "            new_lower_bound = h.pop(key_to_pop)+1\n",
    "            \n",
    "        bounds = (new_lower_bound , bounds[1]+1)\n",
    "        max_length = max(max_length,bounds[1] - bounds[0])\n",
    "    \n",
    "    return max_length\n",
    "  \n",
    "string = input()\n",
    "k=int(input())\n",
    "substring(string,k)"
   ]
  }
 ],
 "metadata": {
  "kernelspec": {
   "display_name": "Python 3",
   "language": "python",
   "name": "python3"
  },
  "language_info": {
   "codemirror_mode": {
    "name": "ipython",
    "version": 3
   },
   "file_extension": ".py",
   "mimetype": "text/x-python",
   "name": "python",
   "nbconvert_exporter": "python",
   "pygments_lexer": "ipython3",
   "version": "3.7.3"
  }
 },
 "nbformat": 4,
 "nbformat_minor": 2
}
