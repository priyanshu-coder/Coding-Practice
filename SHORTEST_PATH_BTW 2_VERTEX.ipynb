{
 "cells": [
  {
   "cell_type": "code",
   "execution_count": 34,
   "metadata": {
    "scrolled": true
   },
   "outputs": [
    {
     "name": "stdout",
     "output_type": "stream",
     "text": [
      "4 4\n",
      "0 1\n",
      "0 3\n",
      "1 2\n",
      "2 3\n",
      "0 0\n",
      "0\n"
     ]
    }
   ],
   "source": [
    "li = [int(x) for x in input().split()]\n",
    "v=li[0]\n",
    "e=li[1]\n",
    "g=graph(v)\n",
    "for j in range(e):\n",
    "    a,b = [int(y) for y in input().split()]\n",
    "    g.add(a,b)\n",
    "c,d=[int(z) for z in input().split()]\n",
    "g.bfs(c,d)"
   ]
  },
  {
   "cell_type": "code",
   "execution_count": 30,
   "metadata": {},
   "outputs": [],
   "source": [
    "import queue\n",
    "class graph:\n",
    "    def __init__(self,v):\n",
    "        self.vertices=v\n",
    "        self.matrix=[[0 for x in range(v)] for z in range(v)]\n",
    "        \n",
    "    def add(self,v1,v2):\n",
    "        self.matrix[v1][v2]=1\n",
    "        self.matrix[v2][v1]=1\n",
    "        \n",
    "    def bfs(self,start,end):\n",
    "        checker=[False for e in range(self.vertices)]\n",
    "        d={}\n",
    "        l=[]\n",
    "        q=queue.Queue()\n",
    "        q.put(start)\n",
    "        \n",
    "        if start==end:\n",
    "            l.append(start)\n",
    "            print(*l)\n",
    "            \n",
    "        else:\n",
    "            s=0\n",
    "            while q.empty() is False and s==0:\n",
    "                parent=q.get()\n",
    "                checker[parent]=True\n",
    "                for i in range(self.vertices):\n",
    "                    if(self.matrix[parent][i]==1 and checker[i] is False):\n",
    "                        \n",
    "                        if i is not end:\n",
    "                            d[i]=parent\n",
    "                            q.put(i)\n",
    "                            checker[i]=True\n",
    "                        \n",
    "                        else:\n",
    "                            d[i]=parent\n",
    "                            checker[i]=True\n",
    "                            s=1\n",
    "                     \n",
    "                          \n",
    "            sv=end\n",
    "            l.append(end)\n",
    "            while sv is not start:\n",
    "                s=d[sv]\n",
    "                l.append(s)\n",
    "                sv=s\n",
    "                \n",
    "            \n",
    "            print(*l)\n",
    "                \n",
    "                   \n",
    "                    \n",
    "                    "
   ]
  }
 ],
 "metadata": {
  "kernelspec": {
   "display_name": "Python 3",
   "language": "python",
   "name": "python3"
  },
  "language_info": {
   "codemirror_mode": {
    "name": "ipython",
    "version": 3
   },
   "file_extension": ".py",
   "mimetype": "text/x-python",
   "name": "python",
   "nbconvert_exporter": "python",
   "pygments_lexer": "ipython3",
   "version": "3.7.3"
  }
 },
 "nbformat": 4,
 "nbformat_minor": 2
}
