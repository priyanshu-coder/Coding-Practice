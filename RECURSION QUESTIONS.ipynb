{
 "cells": [
  {
   "cell_type": "code",
   "execution_count": 2,
   "metadata": {},
   "outputs": [
    {
     "name": "stdout",
     "output_type": "stream",
     "text": [
      "abc\n",
      "\n",
      "a\n",
      "b\n",
      "ab\n",
      "c\n",
      "ac\n",
      "bc\n",
      "abc\n"
     ]
    }
   ],
   "source": [
    "#SUBSEQUENCES OF STRING\n",
    "def subsequences(string):\n",
    "    \n",
    "    if len(string)==0:\n",
    "        output=[\"\"]\n",
    "        return output\n",
    "    smalloutput = subsequences(string[1:])\n",
    "    output=[]\n",
    "    for s in smalloutput:\n",
    "        output.append(s)\n",
    "        output.append(string[0]+s)\n",
    "    return output\n",
    "    \n",
    "\n",
    "\n",
    "string = input()\n",
    "ans = subsequences(string)\n",
    "for ele in ans:\n",
    "    print(ele)\n"
   ]
  },
  {
   "cell_type": "code",
   "execution_count": null,
   "metadata": {},
   "outputs": [],
   "source": [
    "#Given an array A of size n and an integer K, return all subsets of A which sum to K.\n",
    "\n",
    "def helper(li,k,output,liN):\n",
    "    \n",
    "    \n",
    "    if output==k:\n",
    "        k=liN.strip()\n",
    "        print(*k)\n",
    "        return\n",
    "    \n",
    "    if len(li)==0:\n",
    "        return\n",
    "    \n",
    "    newoutput=output+li[0]\n",
    "    helper(li[1:],k,newoutput,liN+str(li[0]))\n",
    "    helper(li[1:],k,output,liN)\n",
    "    \n",
    "def subsetK(li,k):\n",
    "    \n",
    "    liN=\"\"\n",
    "    output=0\n",
    "    helper(li,k,output,liN)\n",
    "\n",
    "n=int(input())\n",
    "li=[int(x) for x in input().split()]\n",
    "k=int(input())\n",
    "\n",
    "subsetK(li,k)\n"
   ]
  },
  {
   "cell_type": "code",
   "execution_count": null,
   "metadata": {},
   "outputs": [],
   "source": []
  }
 ],
 "metadata": {
  "kernelspec": {
   "display_name": "Python 3",
   "language": "python",
   "name": "python3"
  },
  "language_info": {
   "codemirror_mode": {
    "name": "ipython",
    "version": 3
   },
   "file_extension": ".py",
   "mimetype": "text/x-python",
   "name": "python",
   "nbconvert_exporter": "python",
   "pygments_lexer": "ipython3",
   "version": "3.7.3"
  }
 },
 "nbformat": 4,
 "nbformat_minor": 2
}
