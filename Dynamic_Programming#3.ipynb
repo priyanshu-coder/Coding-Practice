{
 "cells": [
  {
   "cell_type": "code",
   "execution_count": null,
   "metadata": {},
   "outputs": [],
   "source": [
    "#longest increasing subsequence\n",
    "#recursive\n",
    "\n",
    "def longestSeq(li,i,n):\n",
    "    if i==n:\n",
    "        return 0,0\n",
    "    \n",
    "    inc_max=1\n",
    "    \n",
    "    for j in range(i+1,n):\n",
    "        if li[j]>=li[i]:\n",
    "            futhur_including_max = longestSeq(li,j,n)[0]\n",
    "            inc_max = max(inc_max,1+futhur_including_max)\n",
    "        \n",
    "    excluding_max= longestSeq(li,i+1,n)[1]\n",
    "    overallmax=max(inc_max,excluding_max)\n",
    "    return inc_max,overallmax\n",
    "    \n",
    "    \n",
    "    \n",
    "m=int(input())\n",
    "li=[int(x) for x in input().split()]\n",
    "longestSeq(li,0,m)[1]"
   ]
  },
  {
   "cell_type": "code",
   "execution_count": null,
   "metadata": {},
   "outputs": [],
   "source": [
    "#memoization\n",
    "\n",
    "def longestSeq(li,dp,n,i):\n",
    "    if i==n:\n",
    "        return 0,0\n",
    "    \n",
    "    inc_max=1\n",
    "    \n",
    "    for j in range(i+1,n):\n",
    "        if li[j]>=li[i]:\n",
    "            if dp[j]==-1:\n",
    "                furth_ans=longestSeq(li,dp,n,j)[0]\n",
    "                inc_max=max(inc_max,1+furth_ans)\n",
    "                dp[j]=furth_ans\n",
    "            else:\n",
    "                furth_ans=dp[j]\n",
    "                inc_max=max(inc_max,1+furth_ans)\n",
    "                \n",
    "    excluding_max=longestSeq(li,dp,n,i+1)[1]\n",
    "    overall_max=max(inc_max,excluding_max)\n",
    "    return inc_max,overall_max\n",
    "                \n",
    "                \n",
    "    \n",
    "n=int(input())\n",
    "li=[int(x) for x in input().split()]\n",
    "dp=[-1 for i in range(n+1)]\n",
    "longestSeq(li,dp,n,0)[1]"
   ]
  },
  {
   "cell_type": "code",
   "execution_count": 2,
   "metadata": {},
   "outputs": [
    {
     "name": "stdout",
     "output_type": "stream",
     "text": [
      "7\n",
      "6 3 1 2 0 7 9\n",
      "[[3, 4], [3, 4], [4, 4], [3, 3], [3, 3], [2, 2], [1, 1], [0, 0]]\n"
     ]
    },
    {
     "data": {
      "text/plain": [
       "4"
      ]
     },
     "execution_count": 2,
     "metadata": {},
     "output_type": "execute_result"
    }
   ],
   "source": [
    "#iterative\n",
    "def longestSeq(li,n):\n",
    "    dp=[[0 for j in range(2)] for i in range(n+1)]\n",
    "    \n",
    "    for i in range(n-1,-1,-1):\n",
    "        inc_max=1\n",
    "        for j in range(i+1,n):\n",
    "            if li[j]>li[i]:\n",
    "                inc_max=max(inc_max,1+dp[j][0])\n",
    "        dp[i][0]=inc_max\n",
    "        excluding_max=dp[i+1][1]\n",
    "        overall_max=max(inc_max,excluding_max)\n",
    "        dp[i][1]=overall_max\n",
    "    print(dp)    \n",
    "    return dp[0][1]\n",
    "            \n",
    "        \n",
    "n=int(input())\n",
    "li=[int(x) for x in input().split()]\n",
    "\n",
    "longestSeq(li,n)"
   ]
  }
 ],
 "metadata": {
  "kernelspec": {
   "display_name": "Python 3",
   "language": "python",
   "name": "python3"
  },
  "language_info": {
   "codemirror_mode": {
    "name": "ipython",
    "version": 3
   },
   "file_extension": ".py",
   "mimetype": "text/x-python",
   "name": "python",
   "nbconvert_exporter": "python",
   "pygments_lexer": "ipython3",
   "version": "3.7.3"
  }
 },
 "nbformat": 4,
 "nbformat_minor": 2
}
