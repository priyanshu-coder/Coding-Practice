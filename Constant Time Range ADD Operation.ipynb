{
 "cells": [
  {
   "cell_type": "markdown",
   "metadata": {},
   "source": [
    "Given an array of size N which is initialized with all zeros. We are given many range add queries, which should be applied to this array. We need to print final updated array as our result."
   ]
  },
  {
   "cell_type": "markdown",
   "metadata": {},
   "source": [
    "Arr = [0, 0, 0, 0, 0, 0]\n",
    "rangeUpdate1 [0, 2], add 100\n",
    "Arr = [100, 0, 0, -100, 0, 0]\n",
    "rangeUpdate1 [1, 5], add 100\n",
    "Arr = [100, 100, 0, -100, 0, 0, -100]\n",
    "rangeUpdate1 [2, 3], add 100\n",
    "Arr = [100, 100, 100, -100, -100, 0, -100]    \n",
    "Now we will convert above operation array to prefix sum array as shown below,\n",
    "Arr = [100, 200, 300, 200, 100, 100]\n",
    "Which is the final updated array."
   ]
  },
  {
   "cell_type": "code",
   "execution_count": 3,
   "metadata": {},
   "outputs": [
    {
     "name": "stdout",
     "output_type": "stream",
     "text": [
      "1 2 3 4 5 6\n",
      "1\n",
      "2 5 9 10 16 21\n"
     ]
    }
   ],
   "source": [
    "def ADD(li,n,lo,hi):\n",
    "    li[lo]+=n\n",
    "    if(hi<len(li)):\n",
    "        li[hi]-=n\n",
    "    return li\n",
    "        \n",
    "def printarr(li):\n",
    "    for i in range(1,len(li)):\n",
    "        li[i]+=li[i-1]\n",
    "    \n",
    "    print(*li)\n",
    "    \n",
    "li=[int(x) for x in input().split()]\n",
    "n=int(input())\n",
    "li=ADD(li,n,1,3)\n",
    "li=ADD(li,n,2,3)\n",
    "li=ADD(li,n,4,5)\n",
    "li=ADD(li,n,0,3)\n",
    "\n",
    "printarr(li)"
   ]
  }
 ],
 "metadata": {
  "kernelspec": {
   "display_name": "Python 3",
   "language": "python",
   "name": "python3"
  },
  "language_info": {
   "codemirror_mode": {
    "name": "ipython",
    "version": 3
   },
   "file_extension": ".py",
   "mimetype": "text/x-python",
   "name": "python",
   "nbconvert_exporter": "python",
   "pygments_lexer": "ipython3",
   "version": "3.7.3"
  }
 },
 "nbformat": 4,
 "nbformat_minor": 2
}
