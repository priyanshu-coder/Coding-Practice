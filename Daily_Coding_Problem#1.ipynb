{
 "cells": [
  {
   "cell_type": "markdown",
   "metadata": {},
   "source": [
    "Given a list of numbers and a number k, return whether any two numbers from the list add up to k.\n",
    "\n",
    "For example, given [10, 15, 3, 7] and k of 17, return true since 10 + 7 is 17.\n",
    "\n",
    "Bonus: Can you do this in one pass?"
   ]
  },
  {
   "cell_type": "code",
   "execution_count": null,
   "metadata": {},
   "outputs": [],
   "source": [
    "#BRUTE FORCE TECHNIQUE\n",
    "#solution in O(n2)\n",
    "\n",
    "def find(li,k):\n",
    "    for ele in li:\n",
    "        for elem in li:\n",
    "            if elem!=ele and k==(elem+ele):\n",
    "                return True\n",
    "    return False\n",
    "\n",
    "li=[int(x) for x in input().split()]\n",
    "k=int(input())\n",
    "if find(li,k):\n",
    "    print(\"true\")\n",
    "else:\n",
    "    print(\"False\")"
   ]
  },
  {
   "cell_type": "code",
   "execution_count": null,
   "metadata": {},
   "outputs": [],
   "source": [
    " #Another way is to use a set to remember the numbers we've seen so far. \n",
    " # solution in O(n)\n",
    "\n",
    "def find(li,k):\n",
    "    seen=set()\n",
    "    for ele in li:\n",
    "        if (k-ele) in seen:\n",
    "            return True\n",
    "        seen.add(ele)\n",
    "    return False\n",
    "\n",
    "li=[int(x) for x in input().split()]\n",
    "k=int(input())\n",
    "if find(li,k):\n",
    "    print(\"true\")\n",
    "else:\n",
    "    print(\"False\")\n"
   ]
  },
  {
   "cell_type": "code",
   "execution_count": 4,
   "metadata": {},
   "outputs": [],
   "source": [
    "#iterate through the list and run a binary search on K - lst[i]\n",
    "#solution in O(nlogn)\n",
    "# in O(1) space\n",
    "from bisect import bisect_left\n",
    "\n",
    "\n",
    "def find(li,k):\n",
    "    \n",
    "    li.sort()\n",
    "    for i in range(len(li)):\n",
    "        ind = binary_search(li,k-li[i])\n",
    "        \n",
    "        if ind== -1:\n",
    "            continue\n",
    "            \n",
    "        elif i!=ind:\n",
    "            return True\n",
    "        \n",
    "        elif li[ind+1]==li[i]:\n",
    "            return True\n",
    "        \n",
    "        elif li[ind-1]==li[i]:\n",
    "            return True\n",
    "        \n",
    "    return False\n",
    "        \n",
    "def binary_search(lst,target):\n",
    "    \n",
    "    ind = bisect_left(lst,target,lo=0,hi=len(lst))\n",
    "    \n",
    "    if 0<= ind < len(lst) and lst[ind]==target:\n",
    "        return ind\n",
    "    return -1\n",
    "    \n"
   ]
  },
  {
   "cell_type": "code",
   "execution_count": null,
   "metadata": {},
   "outputs": [],
   "source": []
  }
 ],
 "metadata": {
  "kernelspec": {
   "display_name": "Python 3",
   "language": "python",
   "name": "python3"
  },
  "language_info": {
   "codemirror_mode": {
    "name": "ipython",
    "version": 3
   },
   "file_extension": ".py",
   "mimetype": "text/x-python",
   "name": "python",
   "nbconvert_exporter": "python",
   "pygments_lexer": "ipython3",
   "version": "3.7.3"
  }
 },
 "nbformat": 4,
 "nbformat_minor": 2
}
