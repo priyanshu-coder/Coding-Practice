{
 "cells": [
  {
   "cell_type": "code",
   "execution_count": 15,
   "metadata": {},
   "outputs": [],
   "source": [
    "class graph:\n",
    "    def __init__(self,v):\n",
    "        self.vertices=v\n",
    "        self.matrix=[[0 for z in range(v)] for j in range(v)]\n",
    "        \n",
    "    def add(self,v1,v2):\n",
    "        self.matrix[v1][v2]=1\n",
    "        self.matrix[v2][v1]=1\n",
    "        \n",
    "    def dfs(self):\n",
    "        checker=[False for a in range(self.vertices)]\n",
    "        l=[]\n",
    "        for ii in range(self.vertices):\n",
    "            if checker[ii] is False:\n",
    "                ll=self.helper(ii,checker)\n",
    "                ll.append(ii)\n",
    "                l.append(ll[::-1])\n",
    "                \n",
    "        for ele in l:\n",
    "            print(*ele)\n",
    "                \n",
    "    def helper(self,sv,checker):\n",
    "        checker[sv]=True\n",
    "        l=[]\n",
    "        for m in range(self.vertices):\n",
    "            if(self.matrix[sv][m]==1 and checker[m] is False):\n",
    "                l=self.helper(m,checker)\n",
    "                l.append(m)\n",
    "                \n",
    "        return l\n",
    "                "
   ]
  },
  {
   "cell_type": "code",
   "execution_count": 16,
   "metadata": {},
   "outputs": [
    {
     "name": "stdout",
     "output_type": "stream",
     "text": [
      "4 2\n",
      "0 1\n",
      "2 3\n",
      "[0, 1]\n",
      "[2, 3]\n"
     ]
    }
   ],
   "source": [
    "li = [int(x) for x in input().split()]\n",
    "v=li[0]\n",
    "e=li[1]\n",
    "g=graph(v)\n",
    "for j in range(e):\n",
    "    a,b = [int(y) for y in input().split()]\n",
    "    g.add(a,b)\n",
    "\n",
    "g.dfs()"
   ]
  }
 ],
 "metadata": {
  "kernelspec": {
   "display_name": "Python 3",
   "language": "python",
   "name": "python3"
  },
  "language_info": {
   "codemirror_mode": {
    "name": "ipython",
    "version": 3
   },
   "file_extension": ".py",
   "mimetype": "text/x-python",
   "name": "python",
   "nbconvert_exporter": "python",
   "pygments_lexer": "ipython3",
   "version": "3.7.3"
  }
 },
 "nbformat": 4,
 "nbformat_minor": 2
}
