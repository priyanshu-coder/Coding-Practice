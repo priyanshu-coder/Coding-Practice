{
 "cells": [
  {
   "cell_type": "code",
   "execution_count": 2,
   "metadata": {},
   "outputs": [
    {
     "name": "stdout",
     "output_type": "stream",
     "text": [
      "pattern matched at 10\n"
     ]
    }
   ],
   "source": [
    "#naive pattern searching \n",
    "#bad complexity\n",
    "#O(mn)\n",
    "\n",
    "def search(pat,txt):\n",
    "    \n",
    "    n=len(pat)\n",
    "    m=len(txt)\n",
    "    \n",
    "    for i in range(m-n+1):\n",
    "        for j in range(n):\n",
    "            if txt[i+j]!=pat[j]:\n",
    "                break\n",
    "        if j==n-1:\n",
    "            print(\"pattern matched at\",i)\n",
    "\n",
    "if __name__ == '__main__': \n",
    "    txt = \"ABABDABACDABABCABAB\"\n",
    "    pat = \"ABABCABAB\"\n",
    "    search(pat, txt)"
   ]
  },
  {
   "cell_type": "code",
   "execution_count": 3,
   "metadata": {},
   "outputs": [
    {
     "name": "stdout",
     "output_type": "stream",
     "text": [
      "found at 10\n"
     ]
    }
   ],
   "source": [
    "#KMP SEARCH\n",
    "#O(M+N)\n",
    "def search(pat,txt):\n",
    "    \n",
    "    n=len(pat)\n",
    "    m=len(txt)\n",
    "    \n",
    "    lps=[0]*n\n",
    "    lps=computelps(lps,pat,n)\n",
    "    \n",
    "    j=0\n",
    "    i=0\n",
    "    while i<m:\n",
    "        if pat[j]==txt[i]:\n",
    "            i+=1\n",
    "            j+=1\n",
    "        if j==n:\n",
    "            print(\"found at\",i-j)\n",
    "            j=lps[j-1]\n",
    "        elif i<m and pat[j]!=txt[i]:\n",
    "            if j!=0:\n",
    "                j=lps[j-1]\n",
    "            else:\n",
    "                i+=1\n",
    "\n",
    "def computelps(lps,pat,n):\n",
    "    j=0\n",
    "    lps[0]=0\n",
    "    i=1\n",
    "    while i<n:\n",
    "            \n",
    "        if pat[i]==pat[j]:\n",
    "            j+=1\n",
    "            lps[i]=j\n",
    "            i+=1\n",
    "                \n",
    "        else:\n",
    "            if j!=0:\n",
    "                j=lps[j]\n",
    "            else:\n",
    "                lps[i]=0\n",
    "                i+=1\n",
    "    return lps\n",
    "\n",
    "\n",
    "if __name__==\"__main__\":\n",
    "    \n",
    "    txt = \"ABABDABACDABABCABAB\"\n",
    "    pat = \"ABABCABAB\"\n",
    "    search(pat, txt)\n",
    "    "
   ]
  }
 ],
 "metadata": {
  "kernelspec": {
   "display_name": "Python 3",
   "language": "python",
   "name": "python3"
  },
  "language_info": {
   "codemirror_mode": {
    "name": "ipython",
    "version": 3
   },
   "file_extension": ".py",
   "mimetype": "text/x-python",
   "name": "python",
   "nbconvert_exporter": "python",
   "pygments_lexer": "ipython3",
   "version": "3.7.3"
  }
 },
 "nbformat": 4,
 "nbformat_minor": 2
}
