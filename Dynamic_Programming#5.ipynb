{
 "cells": [
  {
   "cell_type": "code",
   "execution_count": 1,
   "metadata": {},
   "outputs": [
    {
     "name": "stdout",
     "output_type": "stream",
     "text": [
      "adebc\n",
      "dcabd\n",
      "2\n"
     ]
    }
   ],
   "source": [
    "#LCS Problem\n",
    "\n",
    "#recursive\n",
    "\n",
    "def lcsDP(s1, s2):\n",
    "    \n",
    "    if len(s1)==0 or len(s2)==0:\n",
    "        return 0\n",
    "    \n",
    "    \n",
    "    if s1[0]==s2[0]:\n",
    "        return 1+lcsDP(s1[1:],s2[1:])\n",
    "    \n",
    "    else:\n",
    "        \n",
    "        b=lcsDP(s1[1:],s2)\n",
    "        c=lcsDP(s1,s2[1:])\n",
    "        return max(b,c)\n",
    "\n",
    "s1 =input().strip()\n",
    "s2 =input().strip()\n",
    "print(lcsDP(s1, s2))"
   ]
  },
  {
   "cell_type": "code",
   "execution_count": 4,
   "metadata": {},
   "outputs": [
    {
     "name": "stdout",
     "output_type": "stream",
     "text": [
      "adebc\n",
      "dcabd\n",
      "2\n"
     ]
    }
   ],
   "source": [
    "#memoization\n",
    "\n",
    "def lcsDP(s1,s2,dp,i,j):\n",
    "    \n",
    "    if i==len(s1) or j==len(s2):\n",
    "        return 0\n",
    "    \n",
    "    if s1[i]==s2[j]:\n",
    "        if dp[i+1][j+1]==-1:\n",
    "            smallAns=lcsDP(s1,s2,dp,i+1,j+1)\n",
    "            ans=1+smallAns\n",
    "            dp[i+1][j+1]=smallAns\n",
    "            \n",
    "        else:\n",
    "            ans=1+dp[i+1][j+1]\n",
    "        \n",
    "    \n",
    "    \n",
    "    else:\n",
    "        if dp[i+1][j]==-1:\n",
    "            ans1=lcsDP(s1,s2,dp,i+1,j)\n",
    "            dp[i+1][j]=ans1\n",
    "            \n",
    "        else:\n",
    "            ans1=dp[i+1][j]\n",
    "            \n",
    "        if dp[i][j+1]==-1:\n",
    "            ans2=lcsDP(s1,s2,dp,i,j+1)\n",
    "            dp[i][j+1]=ans2\n",
    "            \n",
    "        else:\n",
    "            ans2=dp[i][j+1]\n",
    "            \n",
    "        ans=max(ans1,ans2)\n",
    "    return ans\n",
    "    \n",
    "    \n",
    "s1 =input().strip()\n",
    "s2 =input().strip()\n",
    "m=len(s1)\n",
    "n=len(s2)\n",
    "dp2=[[-1 for _ in range(n+1)] for _ in range(m+1)]\n",
    "print(lcsDP(s1,s2,dp2,0,0))"
   ]
  },
  {
   "cell_type": "code",
   "execution_count": 6,
   "metadata": {},
   "outputs": [
    {
     "name": "stdout",
     "output_type": "stream",
     "text": [
      "adebc\n",
      "dcabd\n",
      "2\n"
     ]
    }
   ],
   "source": [
    "#iteration\n",
    "\n",
    "def lcsDP(s1,s2):\n",
    "    \n",
    "    m=len(s1)\n",
    "    n=len(s2)\n",
    "    dp=[[0 for _ in range(n+1)] for _ in range(m+1)]\n",
    "    \n",
    "    for i in range(m-1,-1,-1):\n",
    "        for j in range(n-1,-1,-1):\n",
    "            if s1[i]==s2[j]:\n",
    "                dp[i][j]=1+dp[i+1][j+1]\n",
    "                \n",
    "            else:\n",
    "                dp[i][j]=max(dp[i][j+1],dp[i+1][j])\n",
    "    return dp[0][0]\n",
    "    \n",
    "    \n",
    "\n",
    "s1 =input().strip()\n",
    "s2 =input().strip()\n",
    "print(lcsDP(s1,s2))\n"
   ]
  }
 ],
 "metadata": {
  "kernelspec": {
   "display_name": "Python 3",
   "language": "python",
   "name": "python3"
  },
  "language_info": {
   "codemirror_mode": {
    "name": "ipython",
    "version": 3
   },
   "file_extension": ".py",
   "mimetype": "text/x-python",
   "name": "python",
   "nbconvert_exporter": "python",
   "pygments_lexer": "ipython3",
   "version": "3.7.3"
  }
 },
 "nbformat": 4,
 "nbformat_minor": 2
}
