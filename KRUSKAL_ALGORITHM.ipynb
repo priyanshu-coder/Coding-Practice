{
 "cells": [
  {
   "cell_type": "code",
   "execution_count": null,
   "metadata": {},
   "outputs": [],
   "source": [
    "class graph:\n",
    "    def __init__(self,v):\n",
    "        self.vertex=v\n",
    "        self.matrix=[[0 for ii in range(v)] for t in range(v)]\n",
    "        self.array=[]\n",
    "        self.warray=[]\n",
    "        self.parent=[int(q) for q in range(v)]\n",
    "        self.dic={}\n",
    "        \n",
    "    def add(self,v1,v2,w):\n",
    "        self.matrix[v1][v2]=w\n",
    "        self.matrix[v2][v1]=w\n",
    "        \n",
    "    def backup(self,v1,v2,w):\n",
    "        self.array.append([v1,v2])\n",
    "        self.warray.append(w)\n",
    "        self.dic[w]=[v1,v2]\n",
    "        \n",
    "        \n",
    "    def algo(self):\n",
    "        accurate=[]\n",
    "        print(self.warray)\n",
    "        w=self.warray\n",
    "        w.sort()\n",
    "        for ele in w:\n",
    "             accurate.append(self.dic[ele])\n",
    "        \n",
    "        count=0\n",
    "        m=[]\n",
    "        for ele in accurate:\n",
    "            v1=ele[0]\n",
    "            v2=ele[1]\n",
    "            if (self.parent[v1] != self.parent[v2] and count<self.vertex-1):\n",
    "                m.append(ele)\n",
    "                self.parent[v1]=-1\n",
    "                self.parent[v2]=-1\n",
    "                count+=1\n",
    "            \n",
    "        print(m)\n",
    "        \n",
    "                \n",
    "li=[int(x) for x in input().split()]\n",
    "V=li[0]\n",
    "E=li[1]\n",
    "g=graph(V)\n",
    "for i in range(E):\n",
    "    ll=[int(y) for y in input().split()]\n",
    "    v1=ll[0]\n",
    "    v2=ll[1]\n",
    "    w=ll[2]\n",
    "    g.add(v1,v2,w)\n",
    "    g.backup(v1,v2,w)\n",
    "\n",
    "g.algo()            "
   ]
  }
 ],
 "metadata": {
  "kernelspec": {
   "display_name": "Python 3",
   "language": "python",
   "name": "python3"
  },
  "language_info": {
   "codemirror_mode": {
    "name": "ipython",
    "version": 3
   },
   "file_extension": ".py",
   "mimetype": "text/x-python",
   "name": "python",
   "nbconvert_exporter": "python",
   "pygments_lexer": "ipython3",
   "version": "3.7.3"
  }
 },
 "nbformat": 4,
 "nbformat_minor": 2
}
