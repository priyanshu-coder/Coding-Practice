{
 "cells": [
  {
   "cell_type": "markdown",
   "metadata": {},
   "source": [
    "An XOR linked list is a more memory efficient doubly linked list. Instead of each node holding next and prev fields, it holds a field named both, which is an XOR of the next node and the previous node. Implement an XOR linked list; it has an add(element) which adds the element to the end, and a get(index) which returns the node at index.\n",
    "\n",
    "If using a language that has no pointers (such as Python), you can assume you have access to get_pointer and dereference_pointer functions that converts between nodes and memory addresses."
   ]
  },
  {
   "cell_type": "code",
   "execution_count": 1,
   "metadata": {},
   "outputs": [],
   "source": [
    "import ctypes"
   ]
  },
  {
   "cell_type": "code",
   "execution_count": 2,
   "metadata": {},
   "outputs": [],
   "source": [
    "class Node:\n",
    "    \n",
    "    def __init__(self,val):\n",
    "        self.val=val\n",
    "        self.both=0\n",
    "        \n",
    "class XorLL:\n",
    "    \n",
    "    def __init__(self):\n",
    "        \n",
    "        self.head=self.tail=None\n",
    "        self.__nodes=[]\n",
    "        \n",
    "    def add(self,node):\n",
    "        \n",
    "        if self.head is None:\n",
    "            self.head=self.tail=node\n",
    "            \n",
    "        else:\n",
    "            \n",
    "            self.tail.both=id(node)^self.tail.both\n",
    "            node.both=id(tail)\n",
    "            self.tail = node\n",
    "            self.__nodes.append(node)\n",
    "            \n",
    "    def get(self,index):\n",
    "        prev_id=0\n",
    "        node=self.head\n",
    "        for i in range(index):\n",
    "            next_id=prev_id^id(node)\n",
    "            if next_id:\n",
    "                prev_id=id(node)\n",
    "                node=_get_object(next_id)\n",
    "            else:\n",
    "                raise IndexError('Linked list index error out of range')\n",
    "        return node\n",
    "    \n",
    "    def _get_obj(i):\n",
    "        \n",
    "        return ctypes.cast(i,ctypes.py_object).value"
   ]
  },
  {
   "cell_type": "code",
   "execution_count": null,
   "metadata": {},
   "outputs": [],
   "source": [
    "#add in O(1)\n",
    "#get in O(n)"
   ]
  }
 ],
 "metadata": {
  "kernelspec": {
   "display_name": "Python 3",
   "language": "python",
   "name": "python3"
  },
  "language_info": {
   "codemirror_mode": {
    "name": "ipython",
    "version": 3
   },
   "file_extension": ".py",
   "mimetype": "text/x-python",
   "name": "python",
   "nbconvert_exporter": "python",
   "pygments_lexer": "ipython3",
   "version": "3.7.3"
  }
 },
 "nbformat": 4,
 "nbformat_minor": 2
}
