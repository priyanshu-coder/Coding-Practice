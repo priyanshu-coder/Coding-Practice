{
 "cells": [
  {
   "cell_type": "markdown",
   "metadata": {},
   "source": [
    "Given a list of integers, write a function that returns the largest sum of non-adjacent numbers. Numbers can be 0 or negative.\n",
    "\n",
    "For example, [2, 4, 6, 2, 5] should return 13, since we pick 2, 6, and 5. [5, 1, 1, 5] should return 10, since we pick 5 and 5."
   ]
  },
  {
   "cell_type": "code",
   "execution_count": 5,
   "metadata": {},
   "outputs": [
    {
     "name": "stdout",
     "output_type": "stream",
     "text": [
      "2 4 6 2 5\n"
     ]
    },
    {
     "data": {
      "text/plain": [
       "13"
      ]
     },
     "execution_count": 5,
     "metadata": {},
     "output_type": "execute_result"
    }
   ],
   "source": [
    "#recursion O(2^n)\n",
    "\n",
    "def findSum(li):\n",
    "    if len(li)==0:\n",
    "        return 0\n",
    "    if len(li)==1:\n",
    "        return li[0]\n",
    "    \n",
    "    return max(findSum(li[1:]),li[0]+findSum(li[2:]))\n",
    "\n",
    "li= [int(x) for x in input().split()]\n",
    "findSum(li)"
   ]
  },
  {
   "cell_type": "code",
   "execution_count": 7,
   "metadata": {},
   "outputs": [
    {
     "name": "stdout",
     "output_type": "stream",
     "text": [
      "2 4 6 2 5\n"
     ]
    },
    {
     "data": {
      "text/plain": [
       "13"
      ]
     },
     "execution_count": 7,
     "metadata": {},
     "output_type": "execute_result"
    }
   ],
   "source": [
    "#dynamic programming(iterative approach)\n",
    "\n",
    "def findSum(li):\n",
    "    \n",
    "    if len(li)<1:\n",
    "        return 0\n",
    "    \n",
    "    if len(li)==1:\n",
    "        return li[0]\n",
    "    dp=[0 for z in li]\n",
    "    dp[0]=max(0,li[0])\n",
    "    dp[1]=max(0,dp[0])\n",
    "    \n",
    "    for i in range(2,len(li)):\n",
    "        dp[i]=max(dp[i-1],li[i]+dp[i-2])\n",
    "        \n",
    "    return dp[-1]\n",
    "\n",
    "li= [int(x) for x in input().split()]\n",
    "findSum(li)"
   ]
  },
  {
   "cell_type": "code",
   "execution_count": 10,
   "metadata": {},
   "outputs": [
    {
     "name": "stdout",
     "output_type": "stream",
     "text": [
      "2 4 6 2 5\n"
     ]
    },
    {
     "data": {
      "text/plain": [
       "13"
      ]
     },
     "execution_count": 10,
     "metadata": {},
     "output_type": "execute_result"
    }
   ],
   "source": [
    "#above approach can be improved\n",
    "\n",
    "def findSum(li):\n",
    "    \n",
    "    if len(li)<1:\n",
    "        return 0\n",
    "    \n",
    "    if len(li)==1:\n",
    "        return li[0]\n",
    "    \n",
    "    cache1=max(0,li[0])\n",
    "    cache2=max(li[0],cache1)\n",
    "    \n",
    "    for i in range(2,len(li)):\n",
    "        dp=max(cache2,li[i]+cache1)\n",
    "        cache1=cache2\n",
    "        cache2=dp\n",
    "        \n",
    "    return dp\n",
    "\n",
    "li= [int(x) for x in input().split()]\n",
    "findSum(li)      \n",
    "    "
   ]
  }
 ],
 "metadata": {
  "kernelspec": {
   "display_name": "Python 3",
   "language": "python",
   "name": "python3"
  },
  "language_info": {
   "codemirror_mode": {
    "name": "ipython",
    "version": 3
   },
   "file_extension": ".py",
   "mimetype": "text/x-python",
   "name": "python",
   "nbconvert_exporter": "python",
   "pygments_lexer": "ipython3",
   "version": "3.7.3"
  }
 },
 "nbformat": 4,
 "nbformat_minor": 2
}
