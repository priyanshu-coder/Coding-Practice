{
 "cells": [
  {
   "cell_type": "markdown",
   "metadata": {},
   "source": [
    "Given a set of numbers where all elements occur even number of times except one number, find the odd occurring number"
   ]
  },
  {
   "cell_type": "code",
   "execution_count": 24,
   "metadata": {},
   "outputs": [],
   "source": [
    "#Remeber any (number ^ 0)=number\n",
    "#(same no.^ same no.)=0"
   ]
  },
  {
   "cell_type": "code",
   "execution_count": 27,
   "metadata": {},
   "outputs": [
    {
     "data": {
      "text/plain": [
       "8"
      ]
     },
     "execution_count": 27,
     "metadata": {},
     "output_type": "execute_result"
    }
   ],
   "source": [
    "def findodd(li):\n",
    "    res=0\n",
    "    for ele in li:\n",
    "        res^=ele\n",
    "    return res\n",
    "li=[1,1,2,2,3,3,8]\n",
    "findodd(li)"
   ]
  },
  {
   "cell_type": "markdown",
   "metadata": {},
   "source": [
    "You are given a list of n-1 integers and these integers are in the range of 1 to n. There are no duplicates in the list. One of the integers is missing in the list. Write an efficient code to find the missing integer."
   ]
  },
  {
   "cell_type": "code",
   "execution_count": 72,
   "metadata": {},
   "outputs": [
    {
     "data": {
      "text/plain": [
       "5"
      ]
     },
     "execution_count": 72,
     "metadata": {},
     "output_type": "execute_result"
    }
   ],
   "source": [
    "def findno(li):\n",
    "    \n",
    "    res1=0\n",
    "    for ele in li:\n",
    "        res1^=ele\n",
    "    \n",
    "    for i in range(1,len(li)+2):\n",
    "        res1^=i\n",
    "        \n",
    "    return res1\n",
    "\n",
    "li=[1,2,3,4,6]\n",
    "findno(li)"
   ]
  },
  {
   "cell_type": "code",
   "execution_count": null,
   "metadata": {},
   "outputs": [],
   "source": [
    "#a memory efficient doubly linked list application of bitwise xor operator"
   ]
  },
  {
   "cell_type": "markdown",
   "metadata": {},
   "source": [
    "Find the two non-repeating elements in an array of repeating elements"
   ]
  },
  {
   "cell_type": "code",
   "execution_count": 81,
   "metadata": {},
   "outputs": [
    {
     "name": "stdout",
     "output_type": "stream",
     "text": [
      "1 2 1 2 3 5\n",
      "3 5\n"
     ]
    }
   ],
   "source": [
    "def findOdd(li,size):\n",
    "    \n",
    "    xor=0\n",
    "    x=0\n",
    "    y=0\n",
    "    for ele in li:\n",
    "        xor^=ele\n",
    "    set_bit=xor & ~(xor-1)\n",
    "    \n",
    "    for i in range(size):\n",
    "        if (li[i] & set_bit):\n",
    "            x^=li[i]\n",
    "        else:\n",
    "            y^=li[i]\n",
    "    print(x,y)\n",
    "    \n",
    "li=[int(x) for x in input().split()]\n",
    "findOdd(li,len(li))\n"
   ]
  }
 ],
 "metadata": {
  "kernelspec": {
   "display_name": "Python 3",
   "language": "python",
   "name": "python3"
  },
  "language_info": {
   "codemirror_mode": {
    "name": "ipython",
    "version": 3
   },
   "file_extension": ".py",
   "mimetype": "text/x-python",
   "name": "python",
   "nbconvert_exporter": "python",
   "pygments_lexer": "ipython3",
   "version": "3.7.3"
  }
 },
 "nbformat": 4,
 "nbformat_minor": 2
}
