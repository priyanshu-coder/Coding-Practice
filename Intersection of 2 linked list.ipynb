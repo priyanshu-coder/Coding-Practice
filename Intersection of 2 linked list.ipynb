{
 "cells": [
  {
   "cell_type": "code",
   "execution_count": 1,
   "metadata": {},
   "outputs": [],
   "source": [
    "class Node:\n",
    "    def __init__(self,value):\n",
    "        self.value=value\n",
    "        self.next=None\n",
    "class LL:\n",
    "    \n",
    "    def __init__(self):\n",
    "        self.head=None\n",
    "        \n",
    "    def makeLL(self,li):\n",
    "        \n",
    "        for ele in li:\n",
    "            \n",
    "            node=Node(ele)\n",
    "            \n",
    "            if self.head is None:\n",
    "                self.head=node\n",
    "                tail=node\n",
    "            else:\n",
    "                tail.next=node\n",
    "                tail=node\n",
    "                \n",
    "    def printll(self):\n",
    "        \n",
    "        helper=self.head\n",
    "        \n",
    "        while helper is not None:\n",
    "            \n",
    "            print(helper.value)\n",
    "            helper=helper.next\n",
    "    def findhead(self):\n",
    "        return self.head\n",
    "\n",
    "li=[1,2,3,4,5]\n",
    "llist=LL()\n",
    "llist.makeLL(li)\n",
    "\n",
    "        "
   ]
  },
  {
   "cell_type": "code",
   "execution_count": 3,
   "metadata": {},
   "outputs": [
    {
     "name": "stdout",
     "output_type": "stream",
     "text": [
      "5\n"
     ]
    }
   ],
   "source": [
    "#method1\n",
    "def findIntersection(li1,li2):\n",
    "    \n",
    "    ll1=LL()\n",
    "    ll2=LL()\n",
    "    \n",
    "    ll1.makeLL(li1)\n",
    "    ll2.makeLL(li2)\n",
    "    \n",
    "    head1=ll1.findhead()\n",
    "    head2=ll2.findhead()\n",
    "    s=set()\n",
    "    while head1 is not None:\n",
    "        s.add(head1.value)\n",
    "        head1=head1.next\n",
    "        \n",
    "    while head2.value not in s:\n",
    "        head2=head2.next\n",
    "        \n",
    "    print(head2.value)\n",
    "        \n",
    "    \n",
    "    \n",
    "li1=[1,2,3,4,5,6,7]\n",
    "li2=[5,6,7,8,9,10]\n",
    "findIntersection(li1,li2)"
   ]
  },
  {
   "cell_type": "code",
   "execution_count": 2,
   "metadata": {},
   "outputs": [
    {
     "name": "stdout",
     "output_type": "stream",
     "text": [
      "5\n"
     ]
    }
   ],
   "source": [
    "#method2\n",
    "def findIntersection(li1,li2,diff,count1,count2):\n",
    "    if count1>count2:\n",
    "        p=li1\n",
    "        q=li2\n",
    "        \n",
    "    else:\n",
    "        p=li2\n",
    "        q=li1\n",
    "        \n",
    "    ll1=LL()\n",
    "    ll2=LL()\n",
    "    \n",
    "    ll1.makeLL(p)\n",
    "    ll2.makeLL(q)\n",
    "    \n",
    "    head1=ll1.findhead()\n",
    "    head2=ll2.findhead()\n",
    "    i=0\n",
    "    while i<diff:\n",
    "        head1=head1.next\n",
    "        i+=1\n",
    "        \n",
    "    while head1 is not None and head2 is not None:\n",
    "        if head1.value!=head2.value:\n",
    "            head1=head1.next\n",
    "            head2=head2.next\n",
    "        else:\n",
    "            print(head1.value)\n",
    "            return\n",
    "            \n",
    "    \n",
    "    \n",
    "    \n",
    "\n",
    "li1=[1,2,3,4,5,6,7]\n",
    "li2=[5,6,7]\n",
    "count1=len(li1)\n",
    "count2=len(li2)\n",
    "diff=max(count1,count2)-min(count1,count2)\n",
    "findIntersection(li1,li2,diff,count1,count2)"
   ]
  },
  {
   "cell_type": "code",
   "execution_count": null,
   "metadata": {},
   "outputs": [],
   "source": []
  }
 ],
 "metadata": {
  "kernelspec": {
   "display_name": "Python 3",
   "language": "python",
   "name": "python3"
  },
  "language_info": {
   "codemirror_mode": {
    "name": "ipython",
    "version": 3
   },
   "file_extension": ".py",
   "mimetype": "text/x-python",
   "name": "python",
   "nbconvert_exporter": "python",
   "pygments_lexer": "ipython3",
   "version": "3.7.3"
  }
 },
 "nbformat": 4,
 "nbformat_minor": 2
}
