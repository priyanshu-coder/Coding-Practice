{
 "cells": [
  {
   "cell_type": "markdown",
   "metadata": {},
   "source": [
    "Given a positive integer n, find the minimum number of steps s, that takes n to 1.\n",
    "\n",
    "1.) Subtract 1 from it. (n= n - ­1) ,\n",
    "2.) If its divisible by 2, divide by 2.( if n%2==0, then n= n/2 ) ,\n",
    "3.) If its divisible by 3, divide by 3. (if n%3 == 0, then n = n / 3 ). "
   ]
  },
  {
   "cell_type": "code",
   "execution_count": null,
   "metadata": {},
   "outputs": [],
   "source": [
    "#dynamic programming(iterative approach)(down-top approach)\n",
    "import sys\n",
    "def find(n):\n",
    "    if n<=1:\n",
    "        return 0\n",
    "    \n",
    "    dp=[-1 for i in range(n+1)]\n",
    "    \n",
    "    dp[0]=0\n",
    "    dp[1]=0\n",
    "    dp[2]=1\n",
    "    \n",
    "    for i in range(3,n+1):\n",
    "        a= sys.maxsize\n",
    "        b= sys.maxsize\n",
    "        if i%2==0:\n",
    "            a=dp[i//2]\n",
    "        if i%3==0:\n",
    "            b=dp[i//3]\n",
    "        \n",
    "        c=dp[i-1]\n",
    "        \n",
    "        dp[i]=min(a,b,c)+1\n",
    "    \n",
    "    return dp[n]\n",
    "    \n",
    "num=int(input())\n",
    "print(find(num))"
   ]
  },
  {
   "cell_type": "code",
   "execution_count": 1,
   "metadata": {},
   "outputs": [
    {
     "name": "stdout",
     "output_type": "stream",
     "text": [
      "8\n",
      "1\n"
     ]
    }
   ],
   "source": [
    "#dynamic programming(recursive approach)(top-down approach)\n",
    "import sys\n",
    "def find1(n,dp):\n",
    "    \n",
    "    if n<=1:\n",
    "        return 0\n",
    "    \n",
    "    ans1=sys.maxsize\n",
    "   \n",
    "    \n",
    "    \n",
    "    if n%3==0:\n",
    "        if dp[n//3]==-1:\n",
    "            ans1=find1(n//3,dp)\n",
    "            dp[n//3]=ans1\n",
    "            \n",
    "        else:\n",
    "            ans1=dp[n//3]\n",
    "            \n",
    "    ans2=sys.maxsize        \n",
    "    if n%2==0:\n",
    "        if dp[n//2]==-1:\n",
    "            ans2=find1(n//2,dp)\n",
    "            dp[n//2]=ans2\n",
    "            \n",
    "            \n",
    "        else:\n",
    "            ans2=dp[n//2]\n",
    "            \n",
    "    ans3=sys.maxsize\n",
    "    if dp[n-1]==-1:\n",
    "        ans3=find1(dp[n-1],dp)\n",
    "        dp[n-1]=ans3\n",
    "        \n",
    "    else:\n",
    "        ans3=dp[n-1]\n",
    "        \n",
    "    \n",
    "    ans = 1+ min(ans1,ans2,ans3)\n",
    "    return ans\n",
    "        \n",
    "    \n",
    "num=int(input())\n",
    "dp=[-1 for i in range(num)]\n",
    "print(find1(num,dp))   "
   ]
  },
  {
   "cell_type": "code",
   "execution_count": null,
   "metadata": {},
   "outputs": [],
   "source": [
    "dp"
   ]
  }
 ],
 "metadata": {
  "kernelspec": {
   "display_name": "Python 3",
   "language": "python",
   "name": "python3"
  },
  "language_info": {
   "codemirror_mode": {
    "name": "ipython",
    "version": 3
   },
   "file_extension": ".py",
   "mimetype": "text/x-python",
   "name": "python",
   "nbconvert_exporter": "python",
   "pygments_lexer": "ipython3",
   "version": "3.7.3"
  }
 },
 "nbformat": 4,
 "nbformat_minor": 2
}
