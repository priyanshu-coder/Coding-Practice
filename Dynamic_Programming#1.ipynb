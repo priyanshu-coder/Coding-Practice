{
 "cells": [
  {
   "cell_type": "markdown",
   "metadata": {},
   "source": [
    "Given a positive integer n, find the minimum number of steps s, that takes n to 1.\n",
    "\n",
    "1.) Subtract 1 from it. (n= n - ­1) ,\n",
    "2.) If its divisible by 2, divide by 2.( if n%2==0, then n= n/2 ) ,\n",
    "3.) If its divisible by 3, divide by 3. (if n%3 == 0, then n = n / 3 ). "
   ]
  },
  {
   "cell_type": "code",
   "execution_count": null,
   "metadata": {},
   "outputs": [],
   "source": [
    "#dynamic programming\n",
    "\n",
    "def find(n):\n",
    "    if n<=1:\n",
    "        return 0\n",
    "    \n",
    "    dp=[-1 for i in range(n+1)]\n",
    "    \n",
    "    dp[0]=0\n",
    "    dp[1]=0\n",
    "    dp[2]=1\n",
    "    \n",
    "    for i in range(3,n+1):\n",
    "        a=100000000\n",
    "        b=100000000\n",
    "        if i%2==0:\n",
    "            a=dp[i//2]\n",
    "        if i%3==0:\n",
    "            b=dp[i//3]\n",
    "        \n",
    "        c=dp[i-1]\n",
    "        \n",
    "        dp[i]=min(a,b,c)+1\n",
    "    \n",
    "    return dp[n]\n",
    "    \n",
    "num=int(input())\n",
    "print(find(num))"
   ]
  }
 ],
 "metadata": {
  "kernelspec": {
   "display_name": "Python 3",
   "language": "python",
   "name": "python3"
  },
  "language_info": {
   "codemirror_mode": {
    "name": "ipython",
    "version": 3
   },
   "file_extension": ".py",
   "mimetype": "text/x-python",
   "name": "python",
   "nbconvert_exporter": "python",
   "pygments_lexer": "ipython3",
   "version": "3.7.3"
  }
 },
 "nbformat": 4,
 "nbformat_minor": 2
}
