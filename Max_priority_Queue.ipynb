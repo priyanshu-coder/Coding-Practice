{
 "cells": [
  {
   "cell_type": "code",
   "execution_count": 21,
   "metadata": {},
   "outputs": [],
   "source": [
    "class PriorityNode:\n",
    "    def __init__(self,data,priority):\n",
    "        self.data=data\n",
    "        self.priority=priority\n",
    "        "
   ]
  },
  {
   "cell_type": "code",
   "execution_count": 22,
   "metadata": {},
   "outputs": [],
   "source": [
    "class PriorityQueue:\n",
    "    def __init__(self):\n",
    "        self.pqt=[]\n",
    "        \n",
    "    def getSize(self):\n",
    "        return len(self.pqt)\n",
    "    \n",
    "    def printf(self):\n",
    "        for ele in self.pqt:\n",
    "            print(ele.data,end=\" \")\n",
    "    \n",
    "    def isEmpty(self):\n",
    "        return self.getSize()==0\n",
    "    \n",
    "    def getMax(self):\n",
    "        if self.isEmpty() is True:\n",
    "            return None\n",
    "        return self.pqt[0].data\n",
    "    \n",
    "    def insert(self,data,priority):\n",
    "        node=PriorityNode(data,priority)\n",
    "        self.pqt.append(node)\n",
    "        self.__percolateUp()\n",
    "        \n",
    "    def __percolateUp(self):\n",
    "        child=self.getSize()-1\n",
    "        while child>0:\n",
    "            parent=(child-1)//2\n",
    "            \n",
    "            if self.pqt[parent].priority < self.pqt[child].priority:\n",
    "                self.pqt[parent],self.pqt[child]=self.pqt[child],self.pqt[parent]\n",
    "                child=parent\n",
    "                \n",
    "            else:\n",
    "                break\n",
    "                \n",
    "    def removeMax(self):\n",
    "        self.pqt[0],self.pqt[-1]=self.pqt[-1],self.pqt[0]\n",
    "        s=self.pqt.pop()\n",
    "        self.__percolateDown()\n",
    "        return s.data\n",
    "    \n",
    "    def __percolateDown(self):\n",
    "        parent=0\n",
    "        child1=1\n",
    "        child2=2\n",
    "        \n",
    "        while child1<len(self.pqt):\n",
    "            m=parent\n",
    "            if self.pqt[m].priority < self.pqt[child1].priority:\n",
    "                self.pqt[m],self.pqt[child1]=self.pqt[child1],self.pqt[m]\n",
    "                m=child1\n",
    "                \n",
    "            if child2 < getSize()-1 and self.pqt[m].priority < self.pqt[child2].priority:\n",
    "                self.pqt[m],self.pqt[child2]=self.pqt[child2],self.pqt[m]\n",
    "                m=child2\n",
    "            \n",
    "            if m==parent:\n",
    "                break\n",
    "                "
   ]
  },
  {
   "cell_type": "code",
   "execution_count": 32,
   "metadata": {},
   "outputs": [
    {
     "name": "stdout",
     "output_type": "stream",
     "text": [
      "B D C A E "
     ]
    }
   ],
   "source": [
    "pq = PriorityQueue()\n",
    "pq.insert(\"A\",55)\n",
    "pq.insert(\"B\",500)\n",
    "pq.insert(\"C\",110)\n",
    "pq.insert(\"D\",120)\n",
    "pq.insert(\"E\",88)\n",
    "pq.printf()"
   ]
  },
  {
   "cell_type": "code",
   "execution_count": null,
   "metadata": {},
   "outputs": [],
   "source": []
  }
 ],
 "metadata": {
  "kernelspec": {
   "display_name": "Python 3",
   "language": "python",
   "name": "python3"
  },
  "language_info": {
   "codemirror_mode": {
    "name": "ipython",
    "version": 3
   },
   "file_extension": ".py",
   "mimetype": "text/x-python",
   "name": "python",
   "nbconvert_exporter": "python",
   "pygments_lexer": "ipython3",
   "version": "3.7.3"
  }
 },
 "nbformat": 4,
 "nbformat_minor": 2
}
