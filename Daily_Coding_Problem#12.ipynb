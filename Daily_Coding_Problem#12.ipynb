{
 "cells": [
  {
   "cell_type": "markdown",
   "metadata": {},
   "source": [
    "There exists a staircase with N steps, and you can climb up either 1 or 2 steps at a time. Given N, write a function that returns the number of unique ways you can climb the staircase. The order of the steps matters.\n",
    "\n",
    "For example, if N is 4, then there are 5 unique ways:\n",
    "\n",
    "1, 1, 1, 1\n",
    "2, 1, 1\n",
    "1, 2, 1\n",
    "1, 1, 2\n",
    "2, 2\n",
    "What if, instead of being able to climb 1 or 2 steps at a time, you could climb any number from a set of positive integers X? For example, if X = {1, 3, 5}, you could climb 1, 3, or 5 steps at a time"
   ]
  },
  {
   "cell_type": "code",
   "execution_count": 2,
   "metadata": {},
   "outputs": [
    {
     "name": "stdout",
     "output_type": "stream",
     "text": [
      "6\n"
     ]
    },
    {
     "data": {
      "text/plain": [
       "13"
      ]
     },
     "execution_count": 2,
     "metadata": {},
     "output_type": "execute_result"
    }
   ],
   "source": [
    "#recursive\n",
    "def numberSteps(n):\n",
    "    \n",
    "    if n<=0:\n",
    "        return 0\n",
    "    \n",
    "    if n==1:\n",
    "        return 1\n",
    "    \n",
    "    if n==2:\n",
    "        return 2\n",
    "    \n",
    "    totalSteps1=0\n",
    "    totalSteps2=0\n",
    "    \n",
    "    if n>=2:\n",
    "        totalSteps1=numberSteps(n-1)\n",
    "    \n",
    "    if n>=3:\n",
    "        totalSteps2=numberSteps(n-2)\n",
    "    \n",
    "    return totalSteps1+totalSteps2\n",
    "    \n",
    "    \n",
    "\n",
    "n = int(input())\n",
    "num=numberSteps(n)\n",
    "num"
   ]
  },
  {
   "cell_type": "code",
   "execution_count": 5,
   "metadata": {},
   "outputs": [
    {
     "name": "stdout",
     "output_type": "stream",
     "text": [
      "6\n",
      "13\n"
     ]
    }
   ],
   "source": [
    "#dynamic programming\n",
    "\n",
    "def numberSteps(n):\n",
    "    \n",
    "    dp=[0 for i in range(n+1)]\n",
    "    \n",
    "    dp[0]=0\n",
    "    dp[1]=1\n",
    "    dp[2]=2\n",
    "    \n",
    "    for i in range(3,n+1):\n",
    "        dp[i]=dp[i-1]+dp[i-2]\n",
    "        \n",
    "    return dp[n]\n",
    "\n",
    "n=int(input())\n",
    "print(numberSteps(n))"
   ]
  },
  {
   "cell_type": "code",
   "execution_count": 6,
   "metadata": {},
   "outputs": [],
   "source": [
    "#memory efficient \n",
    "\n",
    "def numberSteps(n):\n",
    "    \n",
    "    a,b=1,2\n",
    "    \n",
    "    for _ in range(n-1):\n",
    "        \n",
    "        a,b=b,a+b\n",
    "        \n",
    "    return a"
   ]
  },
  {
   "cell_type": "code",
   "execution_count": 16,
   "metadata": {},
   "outputs": [
    {
     "data": {
      "text/plain": [
       "13"
      ]
     },
     "execution_count": 16,
     "metadata": {},
     "output_type": "execute_result"
    }
   ],
   "source": [
    "#general\n",
    "\n",
    "def numberSteps(n,k):\n",
    "    \n",
    "    if n<0:\n",
    "        return 0\n",
    "    \n",
    "    if n==0:\n",
    "        return 1\n",
    "    \n",
    "#     if n==1:\n",
    "#         return 1\n",
    "    \n",
    "    s=0\n",
    "    for x in range(1,k+1):\n",
    "        s = s + numberSteps(n-x,k)\n",
    "        \n",
    "    return s\n",
    "\n",
    "numberSteps(6,2)"
   ]
  },
  {
   "cell_type": "code",
   "execution_count": 23,
   "metadata": {},
   "outputs": [
    {
     "data": {
      "text/plain": [
       "13"
      ]
     },
     "execution_count": 23,
     "metadata": {},
     "output_type": "execute_result"
    }
   ],
   "source": [
    "#general + dynamic programming\n",
    "\n",
    "def numberSteps(n,k):\n",
    "    \n",
    "    dp=[0 for i in range(n+1)]\n",
    "    \n",
    "    dp[0]=1\n",
    "    \n",
    "    \n",
    "    for i in range(1,n+1):\n",
    "        s=0\n",
    "        for ele in range(1,k+1):\n",
    "            if i-ele >=0:\n",
    "                s+=dp[i-ele]\n",
    "        dp[i]=s\n",
    "        \n",
    "    return dp[n]\n",
    "\n",
    "numberSteps(6,2)"
   ]
  }
 ],
 "metadata": {
  "kernelspec": {
   "display_name": "Python 3",
   "language": "python",
   "name": "python3"
  },
  "language_info": {
   "codemirror_mode": {
    "name": "ipython",
    "version": 3
   },
   "file_extension": ".py",
   "mimetype": "text/x-python",
   "name": "python",
   "nbconvert_exporter": "python",
   "pygments_lexer": "ipython3",
   "version": "3.7.3"
  }
 },
 "nbformat": 4,
 "nbformat_minor": 2
}
