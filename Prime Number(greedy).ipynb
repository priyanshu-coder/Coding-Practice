{
 "cells": [
  {
   "cell_type": "code",
   "execution_count": null,
   "metadata": {},
   "outputs": [],
   "source": [
    "#A simple solution is to iterate through all numbers from 2 to n-1 and for every number check if it divides n."
   ]
  },
  {
   "cell_type": "code",
   "execution_count": null,
   "metadata": {},
   "outputs": [],
   "source": [
    "def isPrime(num):\n",
    "    for i in range(2,num):\n",
    "        if num % 2==0:\n",
    "            print(\"not prime\")\n",
    "            break\n",
    "    else:\n",
    "        print(\"prime\")\n",
    "            \n",
    "num = int(input())\n",
    "isPrime(num)\n",
    "            "
   ]
  },
  {
   "cell_type": "code",
   "execution_count": null,
   "metadata": {},
   "outputs": [],
   "source": [
    "#Instead of checking till n, we can check till √n because a larger factor of n must be a multiple of smaller factor that has \n",
    "#been already checked."
   ]
  },
  {
   "cell_type": "code",
   "execution_count": null,
   "metadata": {},
   "outputs": [],
   "source": [
    "def isPrime(num):\n",
    "    num= int(num**0.5)\n",
    "    for i in range(2,num):\n",
    "        if num % 2==0:\n",
    "            print(\"not prime\")\n",
    "            break\n",
    "    else:\n",
    "        print(\"prime\")\n",
    "            \n",
    "num = int(input())\n",
    "isPrime(num)"
   ]
  },
  {
   "cell_type": "code",
   "execution_count": null,
   "metadata": {},
   "outputs": [],
   "source": [
    "#The algorithm can be improved further by observing that all primes are of the form 6k ± 1(it is not necessary)"
   ]
  },
  {
   "cell_type": "code",
   "execution_count": null,
   "metadata": {},
   "outputs": [],
   "source": [
    "def isPrime(num):\n",
    "    \n",
    "    if n<=1:\n",
    "        print(\"not prime\")\n",
    "        return\n",
    "    \n",
    "    if n<=3:\n",
    "        print(\"prime\")\n",
    "        return\n",
    "    \n",
    "    if(num%2==0 or num%3==0):\n",
    "        print(\"not prime\")\n",
    "        return\n",
    "    \n",
    "    i=5\n",
    "    while(i*i<num):\n",
    "        if(num%i==0 or num%(i+2)==0):\n",
    "            print(\"not prime\")\n",
    "            return\n",
    "        i=i+6\n",
    "    print(\"prime\")\n",
    "            \n",
    "num = int(input())\n",
    "isPrime(num)       \n",
    "    "
   ]
  }
 ],
 "metadata": {
  "kernelspec": {
   "display_name": "Python 3",
   "language": "python",
   "name": "python3"
  },
  "language_info": {
   "codemirror_mode": {
    "name": "ipython",
    "version": 3
   },
   "file_extension": ".py",
   "mimetype": "text/x-python",
   "name": "python",
   "nbconvert_exporter": "python",
   "pygments_lexer": "ipython3",
   "version": "3.7.3"
  }
 },
 "nbformat": 4,
 "nbformat_minor": 2
}
